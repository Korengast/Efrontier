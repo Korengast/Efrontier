{
 "cells": [
  {
   "cell_type": "code",
   "execution_count": 1,
   "metadata": {
    "collapsed": true
   },
   "outputs": [
    {
     "name": "stderr",
     "output_type": "stream",
     "text": [
      "C:\\Anaconda3\\lib\\site-packages\\sklearn\\ensemble\\weight_boosting.py:29: DeprecationWarning: numpy.core.umath_tests is an internal NumPy module and should not be imported. It will be removed in a future NumPy release.\n  from numpy.core.umath_tests import inner1d\n"
     ]
    }
   ],
   "source": [
    "from utils.build_features import build_features\n",
    "from utils.utils import get_klines, add_ys, merge_klines, client_intervals, merge_assets\n",
    "from binance.client import Client\n",
    "import pandas as pd\n",
    "import numpy as np\n",
    "import copy\n",
    "\n",
    "from models.random_forest import RandomForest"
   ]
  },
  {
   "cell_type": "code",
   "execution_count": 2,
   "metadata": {},
   "outputs": [],
   "source": [
    "# Hyper parameters:\n",
    "CUTOFF = 0.15  # in percents. The minimal value of ascending\n",
    "N_ESTIMATORS = 100\n"
   ]
  },
  {
   "cell_type": "code",
   "execution_count": 3,
   "metadata": {},
   "outputs": [],
   "source": [
    "s_date = '01 Jan, 2019'\n",
    "e_date = '02 Jan, 2019'\n",
    "symbols = ['BTCUSDT', 'ETHUSDT']\n",
    "pull_interval = '5m'\n",
    "data_interval = '30m'\n",
    "merging = 6  # Should be equal to data_interval/pull_interval\n"
   ]
  },
  {
   "cell_type": "code",
   "execution_count": 49,
   "metadata": {},
   "outputs": [],
   "source": [
    "kl_file_names = []\n",
    "for symbol in symbols:\n",
    "    kl_f_name = symbol + '_' + s_date + '_TO_' + e_date + '.csv'\n",
    "    kl_file_names.append(kl_f_name)\n",
    "    # small_kl = get_klines(s_date, e_date, symbol, client_intervals[pull_interval])\n",
    "    # klines = merge_klines(\n",
    "    #     small_kl,\n",
    "    #     merge_amount=merging)\n",
    "    # klines.to_csv('klines/30M/' + kl_f_name, index=False)"
   ]
  },
  {
   "cell_type": "code",
   "execution_count": null,
   "metadata": {},
   "outputs": [],
   "source": []
  },
  {
   "cell_type": "code",
   "execution_count": 6,
   "metadata": {},
   "outputs": [],
   "source": [
    "# kl_f_name = symbol + '_' + s_date + '_TO_' + e_date + '.csv'\n",
    "# small_kl = get_klines(s_date, e_date, symbol, client_intervals[pull_interval])\n",
    "# klines = merge_klines(\n",
    "#     small_kl,\n",
    "#     merge_amount=merging)\n",
    "# klines.to_csv('klines/30M/' + kl_f_name, index=False)\n",
    "# klines = pd.read_csv('klines/30M/' + kl_f_name)\n"
   ]
  },
  {
   "cell_type": "code",
   "execution_count": 7,
   "metadata": {},
   "outputs": [
    {
     "name": "stdout",
     "output_type": "stream",
     "text": [
      "(283, 8)\n"
     ]
    },
    {
     "data": {
      "text/html": [
       "<div>\n",
       "<style scoped>\n",
       "    .dataframe tbody tr th:only-of-type {\n",
       "        vertical-align: middle;\n",
       "    }\n",
       "\n",
       "    .dataframe tbody tr th {\n",
       "        vertical-align: top;\n",
       "    }\n",
       "\n",
       "    .dataframe thead th {\n",
       "        text-align: right;\n",
       "    }\n",
       "</style>\n",
       "<table border=\"1\" class=\"dataframe\">\n",
       "  <thead>\n",
       "    <tr style=\"text-align: right;\">\n",
       "      <th></th>\n",
       "      <th>timestamp</th>\n",
       "      <th>open</th>\n",
       "      <th>high</th>\n",
       "      <th>low</th>\n",
       "      <th>close</th>\n",
       "      <th>volume</th>\n",
       "      <th>#trades</th>\n",
       "      <th>R^2</th>\n",
       "    </tr>\n",
       "  </thead>\n",
       "  <tbody>\n",
       "    <tr>\n",
       "      <th>0</th>\n",
       "      <td>1.546301e+12</td>\n",
       "      <td>3701.23</td>\n",
       "      <td>3703.72</td>\n",
       "      <td>3689.88</td>\n",
       "      <td>3694.20</td>\n",
       "      <td>322.716816</td>\n",
       "      <td>2398.0</td>\n",
       "      <td>0.146206</td>\n",
       "    </tr>\n",
       "    <tr>\n",
       "      <th>1</th>\n",
       "      <td>1.546301e+12</td>\n",
       "      <td>3696.30</td>\n",
       "      <td>3705.00</td>\n",
       "      <td>3689.88</td>\n",
       "      <td>3701.41</td>\n",
       "      <td>295.320636</td>\n",
       "      <td>2414.0</td>\n",
       "      <td>0.267947</td>\n",
       "    </tr>\n",
       "    <tr>\n",
       "      <th>2</th>\n",
       "      <td>1.546301e+12</td>\n",
       "      <td>3692.34</td>\n",
       "      <td>3705.00</td>\n",
       "      <td>3690.56</td>\n",
       "      <td>3700.55</td>\n",
       "      <td>263.324379</td>\n",
       "      <td>2432.0</td>\n",
       "      <td>0.348681</td>\n",
       "    </tr>\n",
       "    <tr>\n",
       "      <th>3</th>\n",
       "      <td>1.546302e+12</td>\n",
       "      <td>3697.91</td>\n",
       "      <td>3705.00</td>\n",
       "      <td>3690.56</td>\n",
       "      <td>3702.39</td>\n",
       "      <td>303.620435</td>\n",
       "      <td>2662.0</td>\n",
       "      <td>0.833680</td>\n",
       "    </tr>\n",
       "    <tr>\n",
       "      <th>4</th>\n",
       "      <td>1.546302e+12</td>\n",
       "      <td>3693.44</td>\n",
       "      <td>3710.55</td>\n",
       "      <td>3690.56</td>\n",
       "      <td>3708.60</td>\n",
       "      <td>351.464284</td>\n",
       "      <td>2840.0</td>\n",
       "      <td>0.905247</td>\n",
       "    </tr>\n",
       "  </tbody>\n",
       "</table>\n",
       "</div>"
      ],
      "text/plain": [
       "<div>\n",
       "<style scoped>\n",
       "    .dataframe tbody tr th:only-of-type {\n",
       "        vertical-align: middle;\n",
       "    }\n",
       "\n",
       "    .dataframe tbody tr th {\n",
       "        vertical-align: top;\n",
       "    }\n",
       "\n",
       "    .dataframe thead th {\n",
       "        text-align: right;\n",
       "    }\n",
       "</style>\n",
       "<table border=\"1\" class=\"dataframe\">\n",
       "  <thead>\n",
       "    <tr style=\"text-align: right;\">\n",
       "      <th></th>\n",
       "      <th>timestamp</th>\n",
       "      <th>open</th>\n",
       "      <th>high</th>\n",
       "      <th>low</th>\n",
       "      <th>close</th>\n",
       "      <th>volume</th>\n",
       "      <th>#trades</th>\n",
       "      <th>R^2</th>\n",
       "    </tr>\n",
       "  </thead>\n",
       "  <tbody>\n",
       "    <tr>\n",
       "      <th>0</th>\n",
       "      <td>1.546301e+12</td>\n",
       "      <td>3701.23</td>\n",
       "      <td>3703.72</td>\n",
       "      <td>3689.88</td>\n",
       "      <td>3694.20</td>\n",
       "      <td>322.716816</td>\n",
       "      <td>2398.0</td>\n",
       "      <td>0.146206</td>\n",
       "    </tr>\n",
       "    <tr>\n",
       "      <th>1</th>\n",
       "      <td>1.546301e+12</td>\n",
       "      <td>3696.30</td>\n",
       "      <td>3705.00</td>\n",
       "      <td>3689.88</td>\n",
       "      <td>3701.41</td>\n",
       "      <td>295.320636</td>\n",
       "      <td>2414.0</td>\n",
       "      <td>0.267947</td>\n",
       "    </tr>\n",
       "    <tr>\n",
       "      <th>2</th>\n",
       "      <td>1.546301e+12</td>\n",
       "      <td>3692.34</td>\n",
       "      <td>3705.00</td>\n",
       "      <td>3690.56</td>\n",
       "      <td>3700.55</td>\n",
       "      <td>263.324379</td>\n",
       "      <td>2432.0</td>\n",
       "      <td>0.348681</td>\n",
       "    </tr>\n",
       "    <tr>\n",
       "      <th>3</th>\n",
       "      <td>1.546302e+12</td>\n",
       "      <td>3697.91</td>\n",
       "      <td>3705.00</td>\n",
       "      <td>3690.56</td>\n",
       "      <td>3702.39</td>\n",
       "      <td>303.620435</td>\n",
       "      <td>2662.0</td>\n",
       "      <td>0.833680</td>\n",
       "    </tr>\n",
       "    <tr>\n",
       "      <th>4</th>\n",
       "      <td>1.546302e+12</td>\n",
       "      <td>3693.44</td>\n",
       "      <td>3710.55</td>\n",
       "      <td>3690.56</td>\n",
       "      <td>3708.60</td>\n",
       "      <td>351.464284</td>\n",
       "      <td>2840.0</td>\n",
       "      <td>0.905247</td>\n",
       "    </tr>\n",
       "  </tbody>\n",
       "</table>\n",
       "</div>"
      ]
     },
     "execution_count": 7,
     "metadata": {},
     "output_type": "execute_result"
    }
   ],
   "source": [
    "print(klines.shape)\n",
    "klines.head()"
   ]
  },
  {
   "cell_type": "code",
   "execution_count": 50,
   "metadata": {},
   "outputs": [],
   "source": [
    "features_file_names = []\n",
    "for kl_f in kl_file_names:\n",
    "    features_f_name = kl_f\n",
    "    klines = pd.read_csv('klines/30M/' + kl_f)\n",
    "    features_file_names.append(features_f_name)\n",
    "    features = build_features(klines)\n",
    "    features.to_csv('features/30M/' + features_f_name, index=False)\n"
   ]
  },
  {
   "cell_type": "code",
   "execution_count": 51,
   "metadata": {},
   "outputs": [],
   "source": [
    "\n"
   ]
  },
  {
   "cell_type": "code",
   "execution_count": 52,
   "metadata": {},
   "outputs": [
    {
     "name": "stdout",
     "output_type": "stream",
     "text": [
      "['BTCUSDT', 'ETHUSDT']\n['BTCUSDT_01 Jan, 2019_TO_02 Jan, 2019.csv', 'ETHUSDT_01 Jan, 2019_TO_02 Jan, 2019.csv']\n(267, 247)\n"
     ]
    }
   ],
   "source": [
    "features = merge_assets(symbols, features_file_names, '30M')"
   ]
  },
  {
   "cell_type": "code",
   "execution_count": 38,
   "metadata": {},
   "outputs": [
    {
     "data": {
      "text/plain": [
       "Index(['timestamp', 'BTCUSDT_open', 'BTCUSDT_high', 'BTCUSDT_low',\n       'BTCUSDT_close', 'BTCUSDT_volume', 'BTCUSDT_#trades', 'BTCUSDT_R^2',\n       'BTCUSDT_last_close', 'BTCUSDT_close_ratio',\n       ...\n       'ETHUSDT_volume_max_16', 'ETHUSDT_close_ratio_mean_16',\n       'ETHUSDT_close_ratio_min_16', 'ETHUSDT_close_ratio_max_16',\n       'ETHUSDT_open_ratio_16', 'ETHUSDT_close_ratio_16',\n       'ETHUSDT_high_ratio_16', 'ETHUSDT_low_ratio_16',\n       'ETHUSDT_volume_ratio_16', 'ETHUSDT_#trades_ratio_16'],\n      dtype='object', length=247)"
      ]
     },
     "execution_count": 38,
     "metadata": {},
     "output_type": "execute_result"
    }
   ],
   "source": [
    "features.columns"
   ]
  },
  {
   "cell_type": "code",
   "execution_count": 53,
   "metadata": {},
   "outputs": [],
   "source": [
    ""
   ]
  },
  {
   "cell_type": "code",
   "execution_count": 54,
   "metadata": {},
   "outputs": [],
   "source": [
    "# features_y = copy.deepcopy(features)\n",
    "# features_y['y'] = features_y['close_ratio'].shift(-1)\n",
    "# features_y = features_y.iloc[:-1]\n",
    "symbol_to_pred = 'BTCUSDT'\n",
    "features_y = add_ys(features, CUTOFF, symbol_to_pred)"
   ]
  },
  {
   "cell_type": "code",
   "execution_count": 55,
   "metadata": {},
   "outputs": [
    {
     "data": {
      "text/plain": [
       "5"
      ]
     },
     "execution_count": 55,
     "metadata": {},
     "output_type": "execute_result"
    }
   ],
   "source": [
    "np.max(features_y['y_bins'])"
   ]
  },
  {
   "cell_type": "code",
   "execution_count": 56,
   "metadata": {},
   "outputs": [
    {
     "data": {
      "text/html": [
       "<div>\n",
       "<style scoped>\n",
       "    .dataframe tbody tr th:only-of-type {\n",
       "        vertical-align: middle;\n",
       "    }\n",
       "\n",
       "    .dataframe tbody tr th {\n",
       "        vertical-align: top;\n",
       "    }\n",
       "\n",
       "    .dataframe thead th {\n",
       "        text-align: right;\n",
       "    }\n",
       "</style>\n",
       "<table border=\"1\" class=\"dataframe\">\n",
       "  <thead>\n",
       "    <tr style=\"text-align: right;\">\n",
       "      <th></th>\n",
       "      <th>BTCUSDT_close</th>\n",
       "      <th>y</th>\n",
       "      <th>y%</th>\n",
       "      <th>y_R^2</th>\n",
       "      <th>y*r2</th>\n",
       "      <th>y_bins</th>\n",
       "    </tr>\n",
       "  </thead>\n",
       "  <tbody>\n",
       "    <tr>\n",
       "      <th>27</th>\n",
       "      <td>3695.96</td>\n",
       "      <td>1.002716</td>\n",
       "      <td>0.27164</td>\n",
       "      <td>0.822126</td>\n",
       "      <td>1.002233</td>\n",
       "      <td>1</td>\n",
       "    </tr>\n",
       "    <tr>\n",
       "      <th>66</th>\n",
       "      <td>3709.25</td>\n",
       "      <td>1.002809</td>\n",
       "      <td>0.28092</td>\n",
       "      <td>0.662378</td>\n",
       "      <td>1.001861</td>\n",
       "      <td>1</td>\n",
       "    </tr>\n",
       "    <tr>\n",
       "      <th>132</th>\n",
       "      <td>3712.14</td>\n",
       "      <td>1.002901</td>\n",
       "      <td>0.29013</td>\n",
       "      <td>0.568468</td>\n",
       "      <td>1.001649</td>\n",
       "      <td>1</td>\n",
       "    </tr>\n",
       "    <tr>\n",
       "      <th>175</th>\n",
       "      <td>3687.12</td>\n",
       "      <td>1.001752</td>\n",
       "      <td>0.17520</td>\n",
       "      <td>0.891312</td>\n",
       "      <td>1.001562</td>\n",
       "      <td>1</td>\n",
       "    </tr>\n",
       "    <tr>\n",
       "      <th>190</th>\n",
       "      <td>3678.04</td>\n",
       "      <td>1.002768</td>\n",
       "      <td>0.27678</td>\n",
       "      <td>0.584565</td>\n",
       "      <td>1.001618</td>\n",
       "      <td>1</td>\n",
       "    </tr>\n",
       "    <tr>\n",
       "      <th>216</th>\n",
       "      <td>3683.49</td>\n",
       "      <td>1.003364</td>\n",
       "      <td>0.33636</td>\n",
       "      <td>0.794859</td>\n",
       "      <td>1.002674</td>\n",
       "      <td>1</td>\n",
       "    </tr>\n",
       "    <tr>\n",
       "      <th>218</th>\n",
       "      <td>3696.73</td>\n",
       "      <td>1.001899</td>\n",
       "      <td>0.18990</td>\n",
       "      <td>0.876211</td>\n",
       "      <td>1.001664</td>\n",
       "      <td>1</td>\n",
       "    </tr>\n",
       "    <tr>\n",
       "      <th>220</th>\n",
       "      <td>3700.13</td>\n",
       "      <td>1.003173</td>\n",
       "      <td>0.31729</td>\n",
       "      <td>0.840675</td>\n",
       "      <td>1.002667</td>\n",
       "      <td>1</td>\n",
       "    </tr>\n",
       "    <tr>\n",
       "      <th>221</th>\n",
       "      <td>3711.87</td>\n",
       "      <td>1.002012</td>\n",
       "      <td>0.20125</td>\n",
       "      <td>0.843315</td>\n",
       "      <td>1.001697</td>\n",
       "      <td>1</td>\n",
       "    </tr>\n",
       "    <tr>\n",
       "      <th>230</th>\n",
       "      <td>3719.00</td>\n",
       "      <td>1.002958</td>\n",
       "      <td>0.29578</td>\n",
       "      <td>0.689874</td>\n",
       "      <td>1.002041</td>\n",
       "      <td>1</td>\n",
       "    </tr>\n",
       "    <tr>\n",
       "      <th>257</th>\n",
       "      <td>3725.54</td>\n",
       "      <td>1.015507</td>\n",
       "      <td>1.55065</td>\n",
       "      <td>0.525405</td>\n",
       "      <td>1.008147</td>\n",
       "      <td>5</td>\n",
       "    </tr>\n",
       "    <tr>\n",
       "      <th>258</th>\n",
       "      <td>3783.31</td>\n",
       "      <td>1.002070</td>\n",
       "      <td>0.20696</td>\n",
       "      <td>0.806376</td>\n",
       "      <td>1.001669</td>\n",
       "      <td>1</td>\n",
       "    </tr>\n",
       "    <tr>\n",
       "      <th>259</th>\n",
       "      <td>3791.14</td>\n",
       "      <td>1.002838</td>\n",
       "      <td>0.28383</td>\n",
       "      <td>0.910361</td>\n",
       "      <td>1.002584</td>\n",
       "      <td>1</td>\n",
       "    </tr>\n",
       "    <tr>\n",
       "      <th>266</th>\n",
       "      <td>3797.14</td>\n",
       "      <td>NaN</td>\n",
       "      <td>NaN</td>\n",
       "      <td>NaN</td>\n",
       "      <td>NaN</td>\n",
       "      <td>0</td>\n",
       "    </tr>\n",
       "  </tbody>\n",
       "</table>\n",
       "</div>"
      ],
      "text/plain": [
       "<div>\n",
       "<style scoped>\n",
       "    .dataframe tbody tr th:only-of-type {\n",
       "        vertical-align: middle;\n",
       "    }\n",
       "\n",
       "    .dataframe tbody tr th {\n",
       "        vertical-align: top;\n",
       "    }\n",
       "\n",
       "    .dataframe thead th {\n",
       "        text-align: right;\n",
       "    }\n",
       "</style>\n",
       "<table border=\"1\" class=\"dataframe\">\n",
       "  <thead>\n",
       "    <tr style=\"text-align: right;\">\n",
       "      <th></th>\n",
       "      <th>BTCUSDT_close</th>\n",
       "      <th>y</th>\n",
       "      <th>y%</th>\n",
       "      <th>y_R^2</th>\n",
       "      <th>y*r2</th>\n",
       "      <th>y_bins</th>\n",
       "    </tr>\n",
       "  </thead>\n",
       "  <tbody>\n",
       "    <tr>\n",
       "      <th>27</th>\n",
       "      <td>3695.96</td>\n",
       "      <td>1.002716</td>\n",
       "      <td>0.27164</td>\n",
       "      <td>0.822126</td>\n",
       "      <td>1.002233</td>\n",
       "      <td>1</td>\n",
       "    </tr>\n",
       "    <tr>\n",
       "      <th>66</th>\n",
       "      <td>3709.25</td>\n",
       "      <td>1.002809</td>\n",
       "      <td>0.28092</td>\n",
       "      <td>0.662378</td>\n",
       "      <td>1.001861</td>\n",
       "      <td>1</td>\n",
       "    </tr>\n",
       "    <tr>\n",
       "      <th>132</th>\n",
       "      <td>3712.14</td>\n",
       "      <td>1.002901</td>\n",
       "      <td>0.29013</td>\n",
       "      <td>0.568468</td>\n",
       "      <td>1.001649</td>\n",
       "      <td>1</td>\n",
       "    </tr>\n",
       "    <tr>\n",
       "      <th>175</th>\n",
       "      <td>3687.12</td>\n",
       "      <td>1.001752</td>\n",
       "      <td>0.17520</td>\n",
       "      <td>0.891312</td>\n",
       "      <td>1.001562</td>\n",
       "      <td>1</td>\n",
       "    </tr>\n",
       "    <tr>\n",
       "      <th>190</th>\n",
       "      <td>3678.04</td>\n",
       "      <td>1.002768</td>\n",
       "      <td>0.27678</td>\n",
       "      <td>0.584565</td>\n",
       "      <td>1.001618</td>\n",
       "      <td>1</td>\n",
       "    </tr>\n",
       "    <tr>\n",
       "      <th>216</th>\n",
       "      <td>3683.49</td>\n",
       "      <td>1.003364</td>\n",
       "      <td>0.33636</td>\n",
       "      <td>0.794859</td>\n",
       "      <td>1.002674</td>\n",
       "      <td>1</td>\n",
       "    </tr>\n",
       "    <tr>\n",
       "      <th>218</th>\n",
       "      <td>3696.73</td>\n",
       "      <td>1.001899</td>\n",
       "      <td>0.18990</td>\n",
       "      <td>0.876211</td>\n",
       "      <td>1.001664</td>\n",
       "      <td>1</td>\n",
       "    </tr>\n",
       "    <tr>\n",
       "      <th>220</th>\n",
       "      <td>3700.13</td>\n",
       "      <td>1.003173</td>\n",
       "      <td>0.31729</td>\n",
       "      <td>0.840675</td>\n",
       "      <td>1.002667</td>\n",
       "      <td>1</td>\n",
       "    </tr>\n",
       "    <tr>\n",
       "      <th>221</th>\n",
       "      <td>3711.87</td>\n",
       "      <td>1.002012</td>\n",
       "      <td>0.20125</td>\n",
       "      <td>0.843315</td>\n",
       "      <td>1.001697</td>\n",
       "      <td>1</td>\n",
       "    </tr>\n",
       "    <tr>\n",
       "      <th>230</th>\n",
       "      <td>3719.00</td>\n",
       "      <td>1.002958</td>\n",
       "      <td>0.29578</td>\n",
       "      <td>0.689874</td>\n",
       "      <td>1.002041</td>\n",
       "      <td>1</td>\n",
       "    </tr>\n",
       "    <tr>\n",
       "      <th>257</th>\n",
       "      <td>3725.54</td>\n",
       "      <td>1.015507</td>\n",
       "      <td>1.55065</td>\n",
       "      <td>0.525405</td>\n",
       "      <td>1.008147</td>\n",
       "      <td>5</td>\n",
       "    </tr>\n",
       "    <tr>\n",
       "      <th>258</th>\n",
       "      <td>3783.31</td>\n",
       "      <td>1.002070</td>\n",
       "      <td>0.20696</td>\n",
       "      <td>0.806376</td>\n",
       "      <td>1.001669</td>\n",
       "      <td>1</td>\n",
       "    </tr>\n",
       "    <tr>\n",
       "      <th>259</th>\n",
       "      <td>3791.14</td>\n",
       "      <td>1.002838</td>\n",
       "      <td>0.28383</td>\n",
       "      <td>0.910361</td>\n",
       "      <td>1.002584</td>\n",
       "      <td>1</td>\n",
       "    </tr>\n",
       "    <tr>\n",
       "      <th>266</th>\n",
       "      <td>3797.14</td>\n",
       "      <td>NaN</td>\n",
       "      <td>NaN</td>\n",
       "      <td>NaN</td>\n",
       "      <td>NaN</td>\n",
       "      <td>0</td>\n",
       "    </tr>\n",
       "  </tbody>\n",
       "</table>\n",
       "</div>"
      ]
     },
     "execution_count": 56,
     "metadata": {},
     "output_type": "execute_result"
    }
   ],
   "source": [
    "x = copy.deepcopy(features_y)\n",
    "x = x[x['y_bins'] >= 0]\n",
    "x[['BTCUSDT_close','y', 'y%', 'y_R^2', 'y*r2', 'y_bins']].head(100)\n"
   ]
  },
  {
   "cell_type": "code",
   "execution_count": 57,
   "metadata": {},
   "outputs": [],
   "source": [
    "l = features.shape[0]\n",
    "X_train = np.array(features.iloc[:int(0.8 * l)].drop('timestamp', axis=1))\n",
    "X_valid = np.array(features.iloc[int(0.8 * l):].drop('timestamp', axis=1))\n",
    "y_train = np.array(features_y['y_bins'].iloc[:int(0.8 * l)])\n",
    "y_valid = np.array(features_y['y_bins'].iloc[int(0.8 * l):])\n",
    "df_valid = features.iloc[int(0.8 * l):]\n",
    "df_valid_y = features_y.iloc[int(0.8 * l):]\n"
   ]
  },
  {
   "cell_type": "code",
   "execution_count": 67,
   "metadata": {},
   "outputs": [],
   "source": [
    "l = features.shape[0]\n",
    "X_train = np.array(features.drop('timestamp', axis=1))\n",
    "X_valid = np.array(features.drop('timestamp', axis=1))\n",
    "y_train = np.array(features_y['y_bins'])\n",
    "y_valid = np.array(features_y['y_bins'])\n",
    "df_valid = features\n",
    "df_valid_y = features_y"
   ]
  },
  {
   "cell_type": "code",
   "execution_count": 72,
   "metadata": {},
   "outputs": [],
   "source": [
    ""
   ]
  },
  {
   "cell_type": "code",
   "execution_count": 69,
   "metadata": {},
   "outputs": [],
   "source": [
    "model = RandomForest(n_estimators=N_ESTIMATORS)"
   ]
  },
  {
   "cell_type": "code",
   "execution_count": 70,
   "metadata": {},
   "outputs": [],
   "source": [
    "model.fit(\n",
    "    X=X_train,\n",
    "    y=y_train)"
   ]
  },
  {
   "cell_type": "code",
   "execution_count": 71,
   "metadata": {},
   "outputs": [
    {
     "name": "stdout",
     "output_type": "stream",
     "text": [
      "[-1  0  1  5]\n[-0.16666667  0.          0.16666667  0.83333333]\n[0.99 0.   0.01 0.  ]\n[1. 0. 0. 0.]\n[0.99 0.   0.01 0.  ]\n[1. 0. 0. 0.]\n[0.99 0.   0.01 0.  ]\n[0.98 0.   0.02 0.  ]\n[1. 0. 0. 0.]\n[1. 0. 0. 0.]\n[1. 0. 0. 0.]\n[1. 0. 0. 0.]\n[1. 0. 0. 0.]\n[1. 0. 0. 0.]\n[1. 0. 0. 0.]"
     ]
    },
    {
     "name": "stdout",
     "output_type": "stream",
     "text": [
      "\n[0.99 0.   0.01 0.  ]\n[1. 0. 0. 0.]\n[0.99 0.   0.   0.01]\n[1. 0. 0. 0.]\n[0.94 0.   0.05 0.01]\n[1. 0. 0. 0.]\n[0.99 0.   0.01 0.  ]\n[1. 0. 0. 0.]\n[0.99 0.   0.   0.01]\n[1. 0. 0. 0.]\n[0.98 0.   0.02 0.  ]\n"
     ]
    },
    {
     "name": "stdout",
     "output_type": "stream",
     "text": [
      "[0.99 0.   0.01 0.  ]\n[1. 0. 0. 0.]\n[0.98 0.   0.02 0.  ]\n[0.33 0.   0.67 0.  ]\n[0.89 0.   0.11 0.  ]\n[0.94 0.   0.06 0.  ]\n[0.97 0.   0.03 0.  ]\n[0.98 0.   0.02 0.  ]\n[1. 0. 0. 0.]\n"
     ]
    },
    {
     "name": "stdout",
     "output_type": "stream",
     "text": [
      "[1. 0. 0. 0.]\n[0.99 0.   0.01 0.  ]\n[1. 0. 0. 0.]\n[1. 0. 0. 0.]\n[1. 0. 0. 0.]\n[1. 0. 0. 0.]\n[1. 0. 0. 0.]\n[1. 0. 0. 0.]\n[0.98 0.   0.02 0.  ]\n[0.99 0.   0.01 0.  ]\n[0.99 0.   0.01 0.  ]\n[1. 0. 0. 0.]\n[1. 0. 0. 0.]"
     ]
    },
    {
     "name": "stdout",
     "output_type": "stream",
     "text": [
      "\n[0.99 0.   0.01 0.  ]\n[1. 0. 0. 0.]\n[1. 0. 0. 0.]\n[1. 0. 0. 0.]\n[0.99 0.   0.01 0.  ]\n[0.98 0.   0.02 0.  ]\n[0.93 0.   0.07 0.  ]\n[1. 0. 0. 0.]\n[1. 0. 0. 0.]\n[0.99 0.   0.01 0.  ]"
     ]
    },
    {
     "name": "stdout",
     "output_type": "stream",
     "text": [
      "\n[1. 0. 0. 0.]\n[1. 0. 0. 0.]\n[0.99 0.   0.01 0.  ]\n[1. 0. 0. 0.]\n[1. 0. 0. 0.]\n[1. 0. 0. 0.]\n[1. 0. 0. 0.]\n[1. 0. 0. 0.]\n[1. 0. 0. 0.]\n[0.99 0.   0.01 0.  ]\n[0.29 0.   0.7  0.01]\n"
     ]
    },
    {
     "name": "stdout",
     "output_type": "stream",
     "text": [
      "[0.92 0.   0.06 0.02]\n[1. 0. 0. 0.]\n[0.99 0.   0.01 0.  ]\n[1. 0. 0. 0.]\n[1. 0. 0. 0.]\n[1. 0. 0. 0.]\n[1. 0. 0. 0.]\n[1. 0. 0. 0.]\n[0.99 0.   0.01 0.  ]\n[1. 0. 0. 0.]\n[1. 0. 0. 0.]\n[0.99 0.   0.   0.01]"
     ]
    },
    {
     "name": "stdout",
     "output_type": "stream",
     "text": [
      "\n[0.94 0.01 0.05 0.  ]\n[0.97 0.02 0.01 0.  ]\n[0.99 0.   0.   0.01]\n[1. 0. 0. 0.]\n[0.99 0.   0.01 0.  ]\n[1. 0. 0. 0.]\n[1. 0. 0. 0.]\n[1. 0. 0. 0.]\n[1. 0. 0. 0.]\n[1. 0. 0. 0.]\n[1. 0. 0. 0.]\n"
     ]
    },
    {
     "name": "stdout",
     "output_type": "stream",
     "text": [
      "[0.99 0.   0.01 0.  ]\n[1. 0. 0. 0.]\n[1. 0. 0. 0.]\n[1. 0. 0. 0.]\n[1. 0. 0. 0.]\n[1. 0. 0. 0.]\n[0.97 0.   0.03 0.  ]\n[1. 0. 0. 0.]\n[1. 0. 0. 0.]\n[1. 0. 0. 0.]\n[1. 0. 0. 0.]\n[1. 0. 0. 0.]\n[1. 0. 0. 0.]\n[0.99 0.   0.01 0.  ]\n[1. 0. 0. 0.]\n[1. 0. 0. 0.]\n"
     ]
    },
    {
     "name": "stdout",
     "output_type": "stream",
     "text": [
      "[1. 0. 0. 0.]\n[0.99 0.   0.01 0.  ]\n[1. 0. 0. 0.]\n[0.98 0.   0.02 0.  ]\n[1. 0. 0. 0.]\n[1. 0. 0. 0.]\n[0.96 0.01 0.03 0.  ]\n[1. 0. 0. 0.]\n[1. 0. 0. 0.]\n[0.98 0.   0.02 0.  ]\n[1. 0. 0. 0.]\n[1. 0. 0. 0.]\n[1. 0. 0. 0.]\n[1. 0. 0. 0.]\n[1. 0. 0. 0.]\n[0.99 0.   0.01 0.  ]\n"
     ]
    },
    {
     "name": "stdout",
     "output_type": "stream",
     "text": [
      "[0.98 0.   0.02 0.  ]\n[0.94 0.   0.06 0.  ]\n[1. 0. 0. 0.]\n[0.99 0.   0.01 0.  ]\n[1. 0. 0. 0.]\n[1. 0. 0. 0.]\n[0.99 0.   0.01 0.  ]\n[1. 0. 0. 0.]\n[0.99 0.   0.01 0.  ]\n[0.92 0.   0.08 0.  ]\n[0.45 0.   0.55 0.  ]\n[0.93 0.   0.06 0.01]\n[0.99 0.   0.01 0.  ]\n[0.99 0.   0.01 0.  ]\n[1. 0. 0. 0.]\n[1. 0. 0. 0.]\n[0.99 0.   0.01 0.  ]\n[0.99 0.   0.01 0.  ]\n[1. 0. 0. 0.]\n[1. 0. 0. 0.]\n"
     ]
    },
    {
     "name": "stdout",
     "output_type": "stream",
     "text": [
      "[1. 0. 0. 0.]\n[1. 0. 0. 0.]\n[1. 0. 0. 0.]\n[0.85 0.   0.14 0.01]\n[0.94 0.   0.06 0.  ]\n[0.98 0.   0.02 0.  ]\n[1. 0. 0. 0.]\n[1. 0. 0. 0.]\n[0.99 0.01 0.   0.  ]\n[0.98 0.   0.02 0.  ]\n[0.96 0.   0.04 0.  ]\n[1. 0. 0. 0.]\n[0.95 0.   0.05 0.  ]\n[1. 0. 0. 0.]\n[0.97 0.   0.03 0.  ]\n[1. 0. 0. 0.]\n[1. 0. 0. 0.]\n[0.96 0.   0.04 0.  ]\n[0.98 0.   0.02 0.  ]\n"
     ]
    },
    {
     "name": "stdout",
     "output_type": "stream",
     "text": [
      "[0.98 0.   0.02 0.  ]\n[0.99 0.   0.01 0.  ]\n[0.99 0.   0.01 0.  ]\n[1. 0. 0. 0.]\n[0.99 0.   0.01 0.  ]\n[0.99 0.   0.01 0.  ]\n[1. 0. 0. 0.]\n[0.99 0.   0.01 0.  ]\n[0.99 0.   0.01 0.  ]\n[0.98 0.   0.02 0.  ]\n[0.99 0.   0.01 0.  ]\n[0.99 0.   0.01 0.  ]\n[1. 0. 0. 0.]\n[0.96 0.   0.04 0.  ]\n[0.47 0.   0.53 0.  ]\n[0.97 0.   0.03 0.  ]\n[0.99 0.   0.01 0.  ]\n[1. 0. 0. 0.]\n"
     ]
    },
    {
     "name": "stdout",
     "output_type": "stream",
     "text": [
      "[0.99 0.   0.01 0.  ]\n[1. 0. 0. 0.]\n[1. 0. 0. 0.]\n[0.98 0.   0.02 0.  ]\n[1. 0. 0. 0.]\n[1. 0. 0. 0.]\n[0.98 0.   0.02 0.  ]\n[1. 0. 0. 0.]\n[0.98 0.   0.02 0.  ]\n[0.96 0.   0.04 0.  ]\n[0.87 0.   0.13 0.  ]\n[0.38 0.   0.62 0.  ]\n[0.97 0.   0.03 0.  ]\n[0.99 0.   0.01 0.  ]\n[1. 0. 0. 0.]\n[0.96 0.   0.04 0.  ]\n[0.92 0.   0.08 0.  ]\n"
     ]
    },
    {
     "name": "stdout",
     "output_type": "stream",
     "text": [
      "[1. 0. 0. 0.]\n[0.99 0.   0.01 0.  ]\n[1. 0. 0. 0.]\n[0.98 0.   0.   0.02]\n[1. 0. 0. 0.]\n[0.98 0.   0.02 0.  ]\n[0.94 0.01 0.05 0.  ]\n[1. 0. 0. 0.]\n[1. 0. 0. 0.]\n[1. 0. 0. 0.]\n[0.99 0.   0.01 0.  ]\n[0.97 0.   0.03 0.  ]\n[0.95 0.   0.04 0.01]\n[0.98 0.   0.02 0.  ]\n[0.99 0.   0.01 0.  ]\n[0.97 0.   0.02 0.01]\n[0.98 0.   0.02 0.  ]\n[0.97 0.   0.03 0.  ]\n[0.99 0.   0.01 0.  ]\n"
     ]
    },
    {
     "name": "stdout",
     "output_type": "stream",
     "text": [
      "[0.87 0.   0.12 0.01]\n[0.41 0.   0.59 0.  ]\n[0.78 0.   0.2  0.02]\n[0.35 0.   0.64 0.01]\n[0.63 0.   0.37 0.  ]\n[0.2  0.01 0.78 0.01]\n[0.18 0.   0.82 0.  ]\n[0.68 0.   0.32 0.  ]\n[0.91 0.   0.09 0.  ]\n[0.93 0.   0.07 0.  ]\n[0.94 0.01 0.05 0.  ]\n[0.95 0.02 0.03 0.  ]\n[0.93 0.01 0.06 0.  ]\n[0.93 0.   0.07 0.  ]\n[0.85 0.   0.15 0.  ]\n[0.26 0.   0.74 0.  ]\n[0.86 0.   0.1  0.04]\n[0.97 0.   0.02 0.01]\n[0.97 0.   0.01 0.02]\n[0.97 0.   0.02 0.01]\n[0.98 0.01 0.01 0.  ]\n[0.99 0.01 0.   0.  ]\n"
     ]
    },
    {
     "name": "stdout",
     "output_type": "stream",
     "text": [
      "[0.98 0.   0.02 0.  ]\n[1. 0. 0. 0.]\n[0.99 0.   0.01 0.  ]\n[1. 0. 0. 0.]\n[1. 0. 0. 0.]\n[1. 0. 0. 0.]\n[1. 0. 0. 0.]\n[1. 0. 0. 0.]\n[1. 0. 0. 0.]\n[1. 0. 0. 0.]\n[1. 0. 0. 0.]\n[1. 0. 0. 0.]\n[1. 0. 0. 0.]\n[0.99 0.   0.01 0.  ]\n[1. 0. 0. 0.]\n[0.99 0.   0.   0.01]\n[0.96 0.   0.01 0.03]\n[1. 0. 0. 0.]\n[1. 0. 0. 0.]\n[0.97 0.01 0.02 0.  ]\n[0.36 0.   0.03 0.61]\n[0.14 0.   0.8  0.06]\n[0.18 0.01 0.77 0.04]\n[0.79 0.02 0.16 0.03]\n[0.95 0.01 0.04 0.  ]\n[1. 0. 0. 0.]\n[0.99 0.   0.01 0.  ]\n"
     ]
    },
    {
     "name": "stdout",
     "output_type": "stream",
     "text": [
      "[0.95 0.04 0.01 0.  ]\n[0.88 0.09 0.02 0.01]\n[0.24 0.64 0.08 0.04]\n"
     ]
    }
   ],
   "source": [
    "df_valid_y['predictions'] = model.predict(df_valid.drop('timestamp', axis=1))\n",
    "pred_file_name = 'try.csv'\n",
    "df_valid_y.to_csv('predictions/'+pred_file_name, index=False)"
   ]
  },
  {
   "cell_type": "code",
   "execution_count": null,
   "metadata": {},
   "outputs": [],
   "source": [
    "\n",
    "\n",
    "\n"
   ]
  }
 ],
 "metadata": {
  "kernelspec": {
   "display_name": "Python 2",
   "language": "python",
   "name": "python2"
  },
  "language_info": {
   "codemirror_mode": {
    "name": "ipython",
    "version": 2
   },
   "file_extension": ".py",
   "mimetype": "text/x-python",
   "name": "python",
   "nbconvert_exporter": "python",
   "pygments_lexer": "ipython2",
   "version": "2.7.6"
  }
 },
 "nbformat": 4,
 "nbformat_minor": 0
}
